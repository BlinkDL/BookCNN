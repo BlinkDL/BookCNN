{
 "cells": [
  {
   "cell_type": "code",
   "execution_count": 1,
   "metadata": {},
   "outputs": [
    {
     "name": "stderr",
     "output_type": "stream",
     "text": [
      "C:\\ProgramData\\Anaconda2\\lib\\site-packages\\urllib3\\contrib\\pyopenssl.py:46: DeprecationWarning: OpenSSL.rand is deprecated - you should use os.urandom instead\n",
      "  import OpenSSL.SSL\n"
     ]
    },
    {
     "data": {
      "image/png": "[encoded data removed]",
      "text/plain": [
       "<matplotlib.figure.Figure at 0x1f2c0400>"
      ]
     },
     "metadata": {},
     "output_type": "display_data"
    },
    {
     "name": "stdout",
     "output_type": "stream",
     "text": [
      "label: [5 0 4 1 9 2 1 3 1 4]\n"
     ]
    }
   ],
   "source": [
    "import numpy as np\n",
    "import os\n",
    "import gzip\n",
    "import struct\n",
    "import logging\n",
    "import mxnet as mx\n",
    "import matplotlib.pyplot as plt # 这是常用的绘图库\n",
    "logging.getLogger().setLevel(logging.DEBUG)\n",
    "\n",
    "def read_data(label_url, image_url): # 读入训练数据\n",
    "    with gzip.open(label_url) as flbl: # 打开标签文件\n",
    "        magic, num = struct.unpack(\">II\", flbl.read(8)) # 读入标签文件头\n",
    "        label = np.fromstring(flbl.read(), dtype=np.int8) # 读入标签内容\n",
    "    with gzip.open(image_url, 'rb') as fimg: # 打开图像文件\n",
    "        magic, num, rows, cols = struct.unpack(\">IIII\", fimg.read(16)) # 读入图像文件头，rows和cols都会是28\n",
    "        image = np.fromstring(fimg.read(), dtype=np.uint8) # 读入图像内容\n",
    "        image = image.reshape(len(label), 1, rows, cols) # 设置为正确的数组格式\n",
    "        image = image.astype(np.float32)/255.0 # 归一化为0到1区间\n",
    "    return (label, image)\n",
    "\n",
    "# 读入数据\n",
    "(train_lbl, train_img) = read_data('train-labels-idx1-ubyte.gz', 'train-images-idx3-ubyte.gz')\n",
    "(val_lbl, val_img) = read_data('t10k-labels-idx1-ubyte.gz', 't10k-images-idx3-ubyte.gz')\n",
    " \n",
    "batch_size = 32 # 批大小\n",
    "\n",
    "# 迭代器\n",
    "train_iter = mx.io.NDArrayIter(train_img, train_lbl, batch_size, shuffle=True)\n",
    "val_iter = mx.io.NDArrayIter(val_img, val_lbl, batch_size)  \n",
    "\n",
    "for i in range(10): # 输出前10个数字\n",
    "    plt.subplot(1,10,i+1) # 这里的语句可参见matplotlib库的介绍\n",
    "    plt.imshow(train_img[i].reshape(28,28), cmap='Greys_r') # 新版 matplotlib 需要这样 reshape\n",
    "    plt.axis('off')\n",
    "plt.show() # 显示图像\n",
    "print('label: %s' % (train_lbl[0:10],)) # 显示对应的标签"
   ]
  },
  {
   "cell_type": "code",
   "execution_count": 2,
   "metadata": {},
   "outputs": [
    {
     "name": "stdout",
     "output_type": "stream",
     "text": [
      "________________________________________________________________________________________________________________________\n",
      "Layer (type)                                        Output Shape            Param #     Previous Layer                  \n",
      "========================================================================================================================\n",
      "data(null)                                          1x28x28                 0                                           \n",
      "________________________________________________________________________________________________________________________\n",
      "flatten(Flatten)                                    784                     0           data                            \n",
      "________________________________________________________________________________________________________________________\n",
      "fc1(FullyConnected)                                 128                     100480      flatten                         \n",
      "________________________________________________________________________________________________________________________\n",
      "act1(Activation)                                    128                     0           fc1                             \n",
      "________________________________________________________________________________________________________________________\n",
      "fc2(FullyConnected)                                 64                      8256        act1                            \n",
      "________________________________________________________________________________________________________________________\n",
      "act2(Activation)                                    64                      0           fc2                             \n",
      "________________________________________________________________________________________________________________________\n",
      "fc3(FullyConnected)                                 10                      650         act2                            \n",
      "________________________________________________________________________________________________________________________\n",
      "softmax(SoftmaxOutput)                              10                      0           fc3                             \n",
      "========================================================================================================================\n",
      "Total params: 109386\n",
      "________________________________________________________________________________________________________________________\n"
     ]
    }
   ],
   "source": [
    "data = mx.symbol.Variable('data')\n",
    "\n",
    "# 将图像摊平，例如1*28*28的图像会变为784个数据点，这样才可与普通神经元连接\n",
    "flatten = mx.sym.Flatten(data=data, name=\"flatten\")\n",
    "\n",
    "# 第1层网络及非线性激活，有128个神经元，使用ReLU非线性\n",
    "fc1  = mx.sym.FullyConnected(data=flatten, num_hidden=128, name=\"fc1\")\n",
    "act1 = mx.sym.Activation(data=fc1, act_type=\"relu\", name=\"act1\")\n",
    "\n",
    "# 第2层网络及非线性激活，有64个神经元，使用ReLU非线性\n",
    "fc2  = mx.sym.FullyConnected(data=act1, num_hidden=64, name=\"fc2\")\n",
    "act2 = mx.sym.Activation(data=fc2, act_type=\"relu\", name=\"act2\")\n",
    "    \n",
    "# 输出神经元，因为需分为10类，所以有10个神经元\n",
    "fc3  = mx.sym.FullyConnected(data=act2, num_hidden=10, name=\"fc3\")\n",
    "# SoftMax层，将上一层输出的10个数变为10个分类的概率\n",
    "net  = mx.sym.SoftmaxOutput(data=fc3, name='softmax')\n",
    "\n",
    "# 我们将调用MXNet中的viz库，需要先告知MXNet输入数据的格式\n",
    "shape = {\"data\" : (batch_size, 1, 28, 28)}\n",
    "mx.viz.print_summary(symbol=net, shape=shape)"
   ]
  },
  {
   "cell_type": "code",
   "execution_count": 3,
   "metadata": {},
   "outputs": [
    {
     "data": {
      "text/plain": [
       "'plot.gv.pdf'"
      ]
     },
     "execution_count": 3,
     "metadata": {},
     "output_type": "execute_result"
    }
   ],
   "source": [
    "mx.viz.plot_network(symbol=net, shape=shape).view() # 注意需安装 Graphviz"
   ]
  },
  {
   "cell_type": "code",
   "execution_count": 4,
   "metadata": {},
   "outputs": [
    {
     "name": "stderr",
     "output_type": "stream",
     "text": [
      "INFO:root:Epoch[0] Train-accuracy=0.744050\n",
      "INFO:root:Epoch[0] Time cost=1.702\n",
      "INFO:root:Epoch[0] Validation-accuracy=0.950978\n",
      "INFO:root:Update[1876]: Change learning rate to 1.80000e-01\n",
      "INFO:root:Epoch[1] Train-accuracy=0.959167\n",
      "INFO:root:Epoch[1] Time cost=1.641\n",
      "INFO:root:Epoch[1] Validation-accuracy=0.968950\n",
      "INFO:root:Update[3751]: Change learning rate to 1.62000e-01\n",
      "INFO:root:Epoch[2] Train-accuracy=0.974550\n",
      "INFO:root:Epoch[2] Time cost=1.662\n",
      "INFO:root:Epoch[2] Validation-accuracy=0.974441\n",
      "INFO:root:Update[5626]: Change learning rate to 1.45800e-01\n",
      "INFO:root:Epoch[3] Train-accuracy=0.982233\n",
      "INFO:root:Epoch[3] Time cost=1.674\n",
      "INFO:root:Epoch[3] Validation-accuracy=0.975739\n",
      "INFO:root:Update[7501]: Change learning rate to 1.31220e-01\n",
      "INFO:root:Epoch[4] Train-accuracy=0.987150\n",
      "INFO:root:Epoch[4] Time cost=1.653\n",
      "INFO:root:Epoch[4] Validation-accuracy=0.977236\n",
      "INFO:root:Update[9376]: Change learning rate to 1.18098e-01\n",
      "INFO:root:Epoch[5] Train-accuracy=0.990767\n",
      "INFO:root:Epoch[5] Time cost=1.694\n",
      "INFO:root:Epoch[5] Validation-accuracy=0.978734\n",
      "INFO:root:Update[11251]: Change learning rate to 1.06288e-01\n",
      "INFO:root:Epoch[6] Train-accuracy=0.993683\n",
      "INFO:root:Epoch[6] Time cost=1.664\n",
      "INFO:root:Epoch[6] Validation-accuracy=0.979633\n",
      "INFO:root:Update[13126]: Change learning rate to 9.56594e-02\n",
      "INFO:root:Epoch[7] Train-accuracy=0.995867\n",
      "INFO:root:Epoch[7] Time cost=1.648\n",
      "INFO:root:Epoch[7] Validation-accuracy=0.980132\n",
      "INFO:root:Update[15001]: Change learning rate to 8.60934e-02\n",
      "INFO:root:Epoch[8] Train-accuracy=0.997283\n",
      "INFO:root:Epoch[8] Time cost=1.654\n",
      "INFO:root:Epoch[8] Validation-accuracy=0.979932\n",
      "INFO:root:Update[16876]: Change learning rate to 7.74841e-02\n",
      "INFO:root:Epoch[9] Train-accuracy=0.998250\n",
      "INFO:root:Epoch[9] Time cost=1.660\n",
      "INFO:root:Epoch[9] Validation-accuracy=0.980431\n",
      "INFO:root:Update[18751]: Change learning rate to 6.97357e-02\n",
      "INFO:root:Epoch[10] Train-accuracy=0.998967\n",
      "INFO:root:Epoch[10] Time cost=1.654\n",
      "INFO:root:Epoch[10] Validation-accuracy=0.980232\n",
      "INFO:root:Update[20626]: Change learning rate to 6.27621e-02\n",
      "INFO:root:Epoch[11] Train-accuracy=0.999283\n",
      "INFO:root:Epoch[11] Time cost=1.642\n",
      "INFO:root:Epoch[11] Validation-accuracy=0.980032\n",
      "INFO:root:Update[22501]: Change learning rate to 5.64859e-02\n",
      "INFO:root:Epoch[12] Train-accuracy=0.999567\n",
      "INFO:root:Epoch[12] Time cost=1.657\n",
      "INFO:root:Epoch[12] Validation-accuracy=0.980531\n",
      "INFO:root:Update[24376]: Change learning rate to 5.08373e-02\n",
      "INFO:root:Epoch[13] Train-accuracy=0.999667\n",
      "INFO:root:Epoch[13] Time cost=1.647\n",
      "INFO:root:Epoch[13] Validation-accuracy=0.980531\n",
      "INFO:root:Update[26251]: Change learning rate to 4.57536e-02\n",
      "INFO:root:Epoch[14] Train-accuracy=0.999733\n",
      "INFO:root:Epoch[14] Time cost=1.657\n",
      "INFO:root:Epoch[14] Validation-accuracy=0.979732\n",
      "INFO:root:Update[28126]: Change learning rate to 4.11782e-02\n",
      "INFO:root:Epoch[15] Train-accuracy=0.999767\n",
      "INFO:root:Epoch[15] Time cost=1.678\n",
      "INFO:root:Epoch[15] Validation-accuracy=0.980032\n",
      "INFO:root:Update[30001]: Change learning rate to 3.70604e-02\n",
      "INFO:root:Epoch[16] Train-accuracy=0.999817\n",
      "INFO:root:Epoch[16] Time cost=1.682\n",
      "INFO:root:Epoch[16] Validation-accuracy=0.979932\n",
      "INFO:root:Update[31876]: Change learning rate to 3.33544e-02\n",
      "INFO:root:Epoch[17] Train-accuracy=0.999867\n",
      "INFO:root:Epoch[17] Time cost=1.647\n",
      "INFO:root:Epoch[17] Validation-accuracy=0.980032\n",
      "INFO:root:Update[33751]: Change learning rate to 3.00189e-02\n",
      "INFO:root:Epoch[18] Train-accuracy=0.999883\n",
      "INFO:root:Epoch[18] Time cost=1.670\n",
      "INFO:root:Epoch[18] Validation-accuracy=0.980032\n",
      "INFO:root:Update[35626]: Change learning rate to 2.70170e-02\n",
      "INFO:root:Epoch[19] Train-accuracy=0.999933\n",
      "INFO:root:Epoch[19] Time cost=1.662\n",
      "INFO:root:Epoch[19] Validation-accuracy=0.980132\n"
     ]
    }
   ],
   "source": [
    "# 由于训练数据量较大，这里采用了GPU，若读者没有GPU，可修改为CPU\n",
    "module = mx.mod.Module(symbol=net, context=mx.gpu(0))\n",
    "\n",
    "module.fit(\n",
    "    train_iter,\n",
    "    eval_data=val_iter,\n",
    "    optimizer = 'sgd',\n",
    "# 采用0.2的初始学习速率，并在每60000个样本后（即每1个epoch后）将学习速率缩减为之前的0.9倍\n",
    "    optimizer_params = {'learning_rate' : 0.2, 'lr_scheduler' : mx.lr_scheduler.FactorScheduler(step=60000/batch_size, factor=0.9)},\n",
    "    num_epoch = 20,\n",
    "    batch_end_callback = mx.callback.Speedometer(batch_size, 60000/batch_size)\n",
    ")"
   ]
  },
  {
   "cell_type": "code",
   "execution_count": null,
   "metadata": {
    "collapsed": true
   },
   "outputs": [],
   "source": []
  }
 ],
 "metadata": {
  "kernelspec": {
   "display_name": "Python 2",
   "language": "python",
   "name": "python2"
  },
  "language_info": {
   "codemirror_mode": {
    "name": "ipython",
    "version": 2
   },
   "file_extension": ".py",
   "mimetype": "text/x-python",
   "name": "python",
   "nbconvert_exporter": "python",
   "pygments_lexer": "ipython2",
   "version": "2.7.14"
  }
 },
 "nbformat": 4,
 "nbformat_minor": 2
}
