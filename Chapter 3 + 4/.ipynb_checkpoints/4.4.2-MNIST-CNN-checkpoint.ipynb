{
 "cells": [
  {
   "cell_type": "code",
   "execution_count": 2,
   "metadata": {},
   "outputs": [
    {
     "name": "stderr",
     "output_type": "stream",
     "text": [
      "C:\\ProgramData\\Anaconda2\\lib\\site-packages\\urllib3\\contrib\\pyopenssl.py:46: DeprecationWarning: OpenSSL.rand is deprecated - you should use os.urandom instead\n",
      "  import OpenSSL.SSL\n"
     ]
    },
    {
     "data": {
      "image/png": "[encoded data removed]",
      "text/plain": [
       "<matplotlib.figure.Figure at 0x1f3183c8>"
      ]
     },
     "metadata": {},
     "output_type": "display_data"
    },
    {
     "name": "stdout",
     "output_type": "stream",
     "text": [
      "label: [5 0 4 1 9 2 1 3 1 4]\n"
     ]
    }
   ],
   "source": [
    "import numpy as np\n",
    "import os\n",
    "import gzip\n",
    "import struct\n",
    "import logging\n",
    "import mxnet as mx\n",
    "import matplotlib.pyplot as plt # 这是常用的绘图库\n",
    "logging.getLogger().setLevel(logging.DEBUG)\n",
    "\n",
    "def read_data(label_url, image_url): # 读入训练数据\n",
    "    with gzip.open(label_url) as flbl: # 打开标签文件\n",
    "        magic, num = struct.unpack(\">II\", flbl.read(8)) # 读入标签文件头\n",
    "        label = np.fromstring(flbl.read(), dtype=np.int8) # 读入标签内容\n",
    "    with gzip.open(image_url, 'rb') as fimg: # 打开图像文件\n",
    "        magic, num, rows, cols = struct.unpack(\">IIII\", fimg.read(16)) # 读入图像文件头，rows和cols都会是28\n",
    "        image = np.fromstring(fimg.read(), dtype=np.uint8) # 读入图像内容\n",
    "        image = image.reshape(len(label), 1, rows, cols) # 设置为正确的数组格式\n",
    "        image = image.astype(np.float32)/255.0 # 归一化为0到1区间\n",
    "    return (label, image)\n",
    "\n",
    "# 读入数据\n",
    "(train_lbl, train_img) = read_data('train-labels-idx1-ubyte.gz', 'train-images-idx3-ubyte.gz')\n",
    "(val_lbl, val_img) = read_data('t10k-labels-idx1-ubyte.gz', 't10k-images-idx3-ubyte.gz')\n",
    " \n",
    "batch_size = 32 # 批大小\n",
    "\n",
    "# 迭代器\n",
    "train_iter = mx.io.NDArrayIter(train_img, train_lbl, batch_size, shuffle=True)\n",
    "val_iter = mx.io.NDArrayIter(val_img, val_lbl, batch_size)  \n",
    "\n",
    "for i in range(10): # 输出前10个数字\n",
    "    plt.subplot(1,10,i+1) # 这里的语句可参见matplotlib库的介绍\n",
    "    plt.imshow(train_img[i].reshape(28,28), cmap='Greys_r') # 新版 matplotlib 需要这样 reshape\n",
    "    plt.axis('off')\n",
    "plt.show() # 显示图像\n",
    "print('label: %s' % (train_lbl[0:10],)) # 显示对应的标签"
   ]
  },
  {
   "cell_type": "code",
   "execution_count": 3,
   "metadata": {},
   "outputs": [
    {
     "name": "stdout",
     "output_type": "stream",
     "text": [
      "________________________________________________________________________________________________________________________\n",
      "Layer (type)                                        Output Shape            Param #     Previous Layer                  \n",
      "========================================================================================================================\n",
      "data(null)                                          1x28x28                 0                                           \n",
      "________________________________________________________________________________________________________________________\n",
      "conv1(Convolution)                                  32x24x24                832         data                            \n",
      "________________________________________________________________________________________________________________________\n",
      "bn1(BatchNorm)                                      32x24x24                64          conv1                           \n",
      "________________________________________________________________________________________________________________________\n",
      "act1(Activation)                                    32x24x24                0           bn1                             \n",
      "________________________________________________________________________________________________________________________\n",
      "pool1(Pooling)                                      32x11x11                0           act1                            \n",
      "________________________________________________________________________________________________________________________\n",
      "conv2(Convolution)                                  64x7x7                  51264       pool1                           \n",
      "________________________________________________________________________________________________________________________\n",
      "bn2(BatchNorm)                                      64x7x7                  128         conv2                           \n",
      "________________________________________________________________________________________________________________________\n",
      "act2(Activation)                                    64x7x7                  0           bn2                             \n",
      "________________________________________________________________________________________________________________________\n",
      "pool2(Pooling)                                      64x3x3                  0           act2                            \n",
      "________________________________________________________________________________________________________________________\n",
      "conv3(Convolution)                                  10x1x1                  5770        pool2                           \n",
      "________________________________________________________________________________________________________________________\n",
      "pool3(Pooling)                                      10x1x1                  0           conv3                           \n",
      "________________________________________________________________________________________________________________________\n",
      "flatten(Flatten)                                    10                      0           pool3                           \n",
      "________________________________________________________________________________________________________________________\n",
      "softmax(SoftmaxOutput)                              10                      0           flatten                         \n",
      "========================================================================================================================\n",
      "Total params: 58058\n",
      "________________________________________________________________________________________________________________________\n"
     ]
    }
   ],
   "source": [
    "data = mx.symbol.Variable('data')\n",
    "\n",
    "# 第1个卷积层，以及相应的BN和非线性，有32个5*5卷积\n",
    "conv1 = mx.sym.Convolution(data=data, name=\"conv1\", kernel=(5,5), num_filter=32)\n",
    "# 对于BN层我们往往会加上fix_gamma=False这个参数\n",
    "bn1 = mx.sym.BatchNorm(data=conv1, name=\"bn1\", fix_gamma=False)\n",
    "act1 = mx.sym.Activation(data=bn1, name=\"act1\", act_type=\"relu\")\n",
    "# 第1个池化层，使用了3*3大小和2*2步长\n",
    "pool1 = mx.sym.Pooling(data=act1, name=\"pool1\", pool_type=\"max\", kernel=(3,3), stride=(2,2))\n",
    "\n",
    "# 第2个卷积层，以及相应的BN和非线性，有64个5*5卷积\n",
    "conv2 = mx.sym.Convolution(data=pool1, name=\"conv2\", kernel=(5,5), num_filter=64)\n",
    "bn2 = mx.sym.BatchNorm(data=conv2, name=\"bn2\", fix_gamma=False)\n",
    "act2 = mx.sym.Activation(data=bn2, name=\"act2\", act_type=\"relu\")\n",
    "# 第2个池化层，使用了3*3大小和2*2步长\n",
    "pool2 = mx.sym.Pooling(data=act2, name=\"pool2\", pool_type=\"max\", kernel=(3,3), stride=(2,2))\n",
    "\n",
    "# 第3个卷积层，有10个3*3卷积\n",
    "conv3 = mx.sym.Convolution(data=pool2, name=\"conv3\", kernel=(3,3), num_filter=10)\n",
    "# 第3个池化层，这里设置global_pool进行全局池化，会忽略kernel的值\n",
    "pool3 = mx.sym.Pooling(data=conv3, name=\"pool3\", global_pool=True, pool_type=\"avg\", kernel=(1,1))\n",
    "# 将图像摊平，这里的效果是将10张1*1的图像摊平，因此得到10个数\n",
    "flatten = mx.sym.Flatten(data=pool3, name=\"flatten\")\n",
    "# SoftMax层，将10个数变为10个分类的概率\n",
    "net = mx.sym.SoftmaxOutput(data=flatten, name='softmax')\n",
    "\n",
    "\n",
    "# 我们将调用MXNet中的viz库，需要先告知MXNet输入数据的格式\n",
    "shape = {\"data\" : (batch_size, 1, 28, 28)}\n",
    "mx.viz.print_summary(symbol=net, shape=shape)"
   ]
  },
  {
   "cell_type": "code",
   "execution_count": 4,
   "metadata": {},
   "outputs": [
    {
     "data": {
      "text/plain": [
       "'plot.gv.pdf'"
      ]
     },
     "execution_count": 4,
     "metadata": {},
     "output_type": "execute_result"
    }
   ],
   "source": [
    "mx.viz.plot_network(symbol=net, shape=shape).view() # 注意需安装 Graphviz"
   ]
  },
  {
   "cell_type": "code",
   "execution_count": 5,
   "metadata": {},
   "outputs": [
    {
     "name": "stderr",
     "output_type": "stream",
     "text": [
      "INFO:root:Epoch[0] Train-accuracy=0.970267\n",
      "INFO:root:Epoch[0] Time cost=3.691\n",
      "INFO:root:Epoch[0] Validation-accuracy=0.986721\n",
      "INFO:root:Update[1876]: Change learning rate to 2.70000e-02\n",
      "INFO:root:Epoch[1] Train-accuracy=0.989867\n",
      "INFO:root:Epoch[1] Time cost=3.580\n",
      "INFO:root:Epoch[1] Validation-accuracy=0.988618\n",
      "INFO:root:Update[3751]: Change learning rate to 2.43000e-02\n",
      "INFO:root:Epoch[2] Train-accuracy=0.993033\n",
      "INFO:root:Epoch[2] Time cost=3.665\n",
      "INFO:root:Epoch[2] Validation-accuracy=0.989617\n",
      "INFO:root:Update[5626]: Change learning rate to 2.18700e-02\n",
      "INFO:root:Epoch[3] Train-accuracy=0.995500\n",
      "INFO:root:Epoch[3] Time cost=3.653\n",
      "INFO:root:Epoch[3] Validation-accuracy=0.989716\n",
      "INFO:root:Update[7501]: Change learning rate to 1.96830e-02\n",
      "INFO:root:Epoch[4] Train-accuracy=0.996867\n",
      "INFO:root:Epoch[4] Time cost=3.649\n",
      "INFO:root:Epoch[4] Validation-accuracy=0.989916\n",
      "INFO:root:Update[9376]: Change learning rate to 1.77147e-02\n",
      "INFO:root:Epoch[5] Train-accuracy=0.997700\n",
      "INFO:root:Epoch[5] Time cost=3.588\n",
      "INFO:root:Epoch[5] Validation-accuracy=0.990415\n",
      "INFO:root:Update[11251]: Change learning rate to 1.59432e-02\n",
      "INFO:root:Epoch[6] Train-accuracy=0.998417\n",
      "INFO:root:Epoch[6] Time cost=3.576\n",
      "INFO:root:Epoch[6] Validation-accuracy=0.991613\n",
      "INFO:root:Update[13126]: Change learning rate to 1.43489e-02\n",
      "INFO:root:Epoch[7] Train-accuracy=0.998850\n",
      "INFO:root:Epoch[7] Time cost=3.609\n",
      "INFO:root:Epoch[7] Validation-accuracy=0.992712\n",
      "INFO:root:Update[15001]: Change learning rate to 1.29140e-02\n",
      "INFO:root:Epoch[8] Train-accuracy=0.999150\n",
      "INFO:root:Epoch[8] Time cost=3.645\n",
      "INFO:root:Epoch[8] Validation-accuracy=0.992911\n",
      "INFO:root:Update[16876]: Change learning rate to 1.16226e-02\n",
      "INFO:root:Epoch[9] Train-accuracy=0.999483\n",
      "INFO:root:Epoch[9] Time cost=3.597\n",
      "INFO:root:Epoch[9] Validation-accuracy=0.993510\n",
      "INFO:root:Update[18751]: Change learning rate to 1.04604e-02\n",
      "INFO:root:Epoch[10] Train-accuracy=0.999600\n",
      "INFO:root:Epoch[10] Time cost=3.575\n",
      "INFO:root:Epoch[10] Validation-accuracy=0.993710\n",
      "INFO:root:Update[20626]: Change learning rate to 9.41432e-03\n",
      "INFO:root:Epoch[11] Train-accuracy=0.999700\n",
      "INFO:root:Epoch[11] Time cost=3.600\n",
      "INFO:root:Epoch[11] Validation-accuracy=0.994109\n",
      "INFO:root:Update[22501]: Change learning rate to 8.47289e-03\n",
      "INFO:root:Epoch[12] Train-accuracy=0.999817\n",
      "INFO:root:Epoch[12] Time cost=3.598\n",
      "INFO:root:Epoch[12] Validation-accuracy=0.994109\n",
      "INFO:root:Update[24376]: Change learning rate to 7.62560e-03\n",
      "INFO:root:Epoch[13] Train-accuracy=0.999933\n",
      "INFO:root:Epoch[13] Time cost=3.597\n",
      "INFO:root:Epoch[13] Validation-accuracy=0.993910\n",
      "INFO:root:Update[26251]: Change learning rate to 6.86304e-03\n",
      "INFO:root:Epoch[14] Train-accuracy=0.999950\n",
      "INFO:root:Epoch[14] Time cost=3.591\n",
      "INFO:root:Epoch[14] Validation-accuracy=0.993810\n",
      "INFO:root:Update[28126]: Change learning rate to 6.17673e-03\n",
      "INFO:root:Epoch[15] Train-accuracy=0.999950\n",
      "INFO:root:Epoch[15] Time cost=3.568\n",
      "INFO:root:Epoch[15] Validation-accuracy=0.993910\n",
      "INFO:root:Update[30001]: Change learning rate to 5.55906e-03\n",
      "INFO:root:Epoch[16] Train-accuracy=0.999967\n",
      "INFO:root:Epoch[16] Time cost=3.581\n",
      "INFO:root:Epoch[16] Validation-accuracy=0.993710\n",
      "INFO:root:Update[31876]: Change learning rate to 5.00315e-03\n",
      "INFO:root:Epoch[17] Train-accuracy=0.999967\n",
      "INFO:root:Epoch[17] Time cost=3.598\n",
      "INFO:root:Epoch[17] Validation-accuracy=0.993810\n",
      "INFO:root:Update[33751]: Change learning rate to 4.50284e-03\n",
      "INFO:root:Epoch[18] Train-accuracy=0.999967\n",
      "INFO:root:Epoch[18] Time cost=3.594\n",
      "INFO:root:Epoch[18] Validation-accuracy=0.993910\n",
      "INFO:root:Update[35626]: Change learning rate to 4.05256e-03\n",
      "INFO:root:Epoch[19] Train-accuracy=0.999967\n",
      "INFO:root:Epoch[19] Time cost=3.568\n",
      "INFO:root:Epoch[19] Validation-accuracy=0.993910\n"
     ]
    }
   ],
   "source": [
    "# 由于训练数据量较大，这里采用了GPU，若读者没有GPU，可修改为CPU\n",
    "module = mx.mod.Module(symbol=net, context=mx.gpu(0))\n",
    "\n",
    "module.fit(\n",
    "    train_iter,\n",
    "    eval_data=val_iter,\n",
    "    optimizer = 'sgd', \n",
    "# 采用0.03的初始学习速率，并在每60000个样本后（即每1个epoch后）将学习速率缩减为之前的0.9倍\n",
    "    optimizer_params = {'learning_rate' : 0.03, 'lr_scheduler' : mx.lr_scheduler.FactorScheduler(step=60000/batch_size, factor=0.9)},\n",
    "    num_epoch = 20,     \n",
    "    batch_end_callback = mx.callback.Speedometer(batch_size, 60000/batch_size)\n",
    ")"
   ]
  },
  {
   "cell_type": "code",
   "execution_count": 6,
   "metadata": {},
   "outputs": [
    {
     "name": "stdout",
     "output_type": "stream",
     "text": [
      "[(7, 1.0), (2, 0.99987555), (1, 0.99972385), (0, 0.99998617), (4, 0.99999046), (1, 0.99987674), (4, 0.99999058), (9, 0.99999845), (5, 0.95311016), (9, 0.99999678), (0, 0.99999285), (6, 0.99999821), (9, 0.99999702), (0, 0.99999917), (1, 0.99996555), (5, 0.99995649), (9, 0.9999969), (7, 0.9999963), (3, 0.99658263), (4, 0.99999845), (9, 0.99990869), (6, 0.99998307), (6, 0.9999913), (5, 1.0), (4, 0.9999963), (0, 0.99999571), (7, 0.99976128), (4, 1.0), (0, 0.99999905), (1, 0.99883896), (3, 1.0), (1, 0.99935406)]\n"
     ]
    }
   ],
   "source": [
    "val_iter.reset() # 将val_iter重置，保证是从头开始提供数据\n",
    "# 前向传播，用next()进行val_iter的迭代，每次调用可得到一个batch的数据\n",
    "module.forward(val_iter.next(), is_train=False) \n",
    "out = module.get_outputs()[0].asnumpy() # 得到输出\n",
    "# 将输出做一些美观处理\n",
    "print(zip(out.argmax(axis=1), out.max(axis=1)))"
   ]
  },
  {
   "cell_type": "code",
   "execution_count": 15,
   "metadata": {},
   "outputs": [
    {
     "data": {
      "image/png": "[encoded data removed]",
      "text/plain": [
       "<matplotlib.figure.Figure at 0x24b1bb00>"
      ]
     },
     "metadata": {},
     "output_type": "display_data"
    },
    {
     "name": "stdout",
     "output_type": "stream",
     "text": [
      "7\n"
     ]
    }
   ],
   "source": [
    "plt.imshow(val_img[0].reshape(28,28), cmap='Greys_r') # 新版 matplotlib 需要这样 reshape\n",
    "plt.axis('off')\n",
    "plt.show()\n",
    "print(val_lbl[0])"
   ]
  },
  {
   "cell_type": "code",
   "execution_count": 10,
   "metadata": {},
   "outputs": [
    {
     "name": "stdout",
     "output_type": "stream",
     "text": [
      "(4, 9)\n"
     ]
    },
    {
     "data": {
      "image/png": "[encoded data removed]",
      "text/plain": [
       "<matplotlib.figure.Figure at 0x246856d8>"
      ]
     },
     "metadata": {},
     "output_type": "display_data"
    },
    {
     "name": "stdout",
     "output_type": "stream",
     "text": [
      "(0, 1)\n"
     ]
    },
    {
     "data": {
      "image/png": "[encoded data removed]",
      "text/plain": [
       "<matplotlib.figure.Figure at 0x24566080>"
      ]
     },
     "metadata": {},
     "output_type": "display_data"
    },
    {
     "name": "stdout",
     "output_type": "stream",
     "text": [
      "(5, 2)\n"
     ]
    },
    {
     "data": {
      "image/png": "[encoded data removed]",
      "text/plain": [
       "<matplotlib.figure.Figure at 0x246febe0>"
      ]
     },
     "metadata": {},
     "output_type": "display_data"
    }
   ],
   "source": [
    "val_iter.reset()\n",
    "for i in range(0,15):\n",
    "    # 如前所述，每次调用val_iter.next()都会得到一个batch的数据 \n",
    "    module.forward(val_iter.next(), is_train=False)\n",
    "    out = module.get_outputs()[0].asnumpy().argmax(axis=1)\n",
    "    for j in range(0,len(out)):\n",
    "        if out[j] != val_lbl[i*batch_size + j]: # 是否错误识别？\n",
    "            print(out[j], val_lbl[j]) # 输出错误的情况\n",
    "            plt.imshow(val_img[j].reshape(28,28), cmap='Greys_r')\n",
    "            plt.axis('off')\n",
    "            plt.show()"
   ]
  },
  {
   "cell_type": "code",
   "execution_count": 31,
   "metadata": {},
   "outputs": [
    {
     "name": "stdout",
     "output_type": "stream",
     "text": [
      "[[ 0.          0.00000001  0.00000001  0.00000001  0.          0.          0.\n",
      "   1.          0.          0.00000003]]\n"
     ]
    }
   ],
   "source": [
    "# 定义一个简单数据结构，方便后续 module 读取数据\n",
    "from collections import namedtuple\n",
    "MyBatch = namedtuple('MyBatch', ['data', 'label'])\n",
    "\n",
    "# 对于不熟悉 namedtuple 的朋友，这里举例说明 namedtuple 的运作方式：\n",
    "# 如果此时执行 MyBatchExample = MyBatch('abc', 'def')\n",
    "# 那么 print(MyBatchExample.data) 就会输出 'abc'\n",
    "# 而 print(MyBatchExample.label) 就会输出 'def'\n",
    "\n",
    "# 将 module 重新绑定为批大小为1\n",
    "new_batch_size = 1\n",
    "module.bind(data_shapes=[('data', (new_batch_size, 1, 28, 28))], label_shapes=[('softmax_label', (new_batch_size,))], force_rebind=True, for_training=False) # 设置force_rebind为True，说明是在重新绑定；设置for_training为False，说明只作前向传播\n",
    "\n",
    "def to4d(img): # 辅助函数，将数组设置为正确的格式\n",
    "    return img.reshape(img.shape[0], 1, 28, 28).astype(np.float32)\n",
    "\n",
    "# 这里的数据使用val_img的第1张。我们也可送入自己生成的数据\n",
    "# 这里将MyBatch的第2个参数设为None，因为它对应标签，而运行网络不需要标签\n",
    "MyBatchData = MyBatch([mx.nd.array(to4d(val_img)[0:1])], None)\n",
    "\n",
    "# 运行网络，module 会读取 MyBatchData.data 和 MyBatchData.label\n",
    "module.forward(MyBatchData) \n",
    "# 关闭 print 的科学计数法显示，让结果更美观\n",
    "np.set_printoptions(suppress=True)\n",
    "# 输出网络运行结果\n",
    "print(module.get_outputs()[0].asnumpy())"
   ]
  },
  {
   "cell_type": "code",
   "execution_count": null,
   "metadata": {
    "collapsed": true
   },
   "outputs": [],
   "source": []
  }
 ],
 "metadata": {
  "kernelspec": {
   "display_name": "Python 2",
   "language": "python",
   "name": "python2"
  },
  "language_info": {
   "codemirror_mode": {
    "name": "ipython",
    "version": 2
   },
   "file_extension": ".py",
   "mimetype": "text/x-python",
   "name": "python",
   "nbconvert_exporter": "python",
   "pygments_lexer": "ipython2",
   "version": "2.7.14"
  }
 },
 "nbformat": 4,
 "nbformat_minor": 2
}
